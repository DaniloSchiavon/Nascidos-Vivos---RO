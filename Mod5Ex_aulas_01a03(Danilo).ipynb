{
 "cells": [
  {
   "cell_type": "markdown",
   "metadata": {},
   "source": [
    "# Módulo 5 Tarefa 1\n",
    "## Base de nascidos vivos do DataSUS\n",
    "O DataSUS disponibiliza diversos arquivos de dados com relação a seus segurados, conforme a [lei da transparência de informações públicas](https://www.sisgov.com/transparencia-acesso-informacao/#:~:text=A%20Lei%20da%20Transpar%C3%AAncia%20(LC,em%20um%20site%20na%20internet.). \n",
    "\n",
    "Essas informações podem ser obtidas pela internet [aqui](http://www2.datasus.gov.br/DATASUS/index.php?area=0901&item=1). Como o processo de obtenção desses arquivos foge um pouco do nosso escopo, deixamos o arquivo SINASC_RO_2019.csv` já como vai ser encontrado no DataSUS. O dicionário de dados está no arquivo `estrutura_sinasc_para_CD.pdf` (o nome do arquivo tal qual no portal do DataSUS).\n",
    "\n",
    "### Nosso objetivo\n",
    "Queremos deixar uma base organizada para podermos estudar a relação entre partos com risco para o bebê e algumas condições como tempo de parto, consultas de pré-natal etc.\n",
    "\n",
    "#### Preparação da base\n",
    "1. Carregue a base 'SINASC_RO_2019.csv'. Conte o número de registros e o número de registros não duplicados da base. Dica: você aprendeu um método que remove duplicados, encadeie este método com um outro método que conta o número de linhas. **Há linhas duplicadas?**  \n",
    "\n",
    "2. Conte o número de valores *missing* por variável.  \n",
    "\n",
    "3. Ok, no item anterior você deve ter achado pouco prático ler a informação de tantas variáveis, muitas delas nem devem ser interesantes. Então crie uma seleção dessa base somente com as colunas que interessam. São elas:\n",
    "` \n",
    "['LOCNASC', 'IDADEMAE', 'ESTCIVMAE', 'ESCMAE', 'QTDFILVIVO', \n",
    "    'GESTACAO', 'GRAVIDEZ', 'CONSULTAS', 'APGAR5'] \n",
    "`\n",
    "Refaça a contagem de valores *missings*.  \n",
    "\n",
    "4. Apgar é uma *nota* que o pediatra dá ao bebê quando nasce de acordo com algumas características associadas principalmente à respiração. Apgar 1 e Apgar 5 são as notas 1 e 5 minutos do nascimento. Apgar5 será a nossa variável de interesse principal. Então remova todos os registros com Apgar5 não preenchido. Para esta seleção, conte novamente o número de linhas e o número de *missings*.  \n",
    "\n",
    "5. observe que as variáveis `['ESTCIVMAE', 'CONSULTAS']` possuem o código `9`, que significa *ignorado*. Vamos assumir que o não preenchido é o mesmo que o código `9`.<br>\n",
    "6. Substitua os valores faltantes da quantitativa (`QTDFILVIVO`) por zero.  \n",
    "7. Das restantes, decida que valore te parece mais adequado (um 'não preenchido' ou um valor 'mais provável' como no item anterior) e preencha. Justifique. Lembre-se de que tratamento de dados é trabalho do cientista, e que estamos tomando decisões a todo o momento - não há necessariamente certo e errado aqui.  \n",
    "8. O Apgar possui uma classificação indicando se o bebê passou por asfixia:\n",
    "- Entre 8 e 10 está em uma faixa 'normal'. \n",
    "- Entre 6 e 7, significa que o recém-nascido passou por 'asfixia leve'. \n",
    "- Entre 4 e 5 significa 'asfixia moderada'.\n",
    "- Entre 0 e 3 significa 'asfixia severa'.  \n",
    "\n",
    "Crie uma categorização dessa variável com essa codificação e calcule as frequências dessa categorização.  \n",
    "<br>\n",
    "9. Renomeie as variáveis para que fiquem no *snake case*, ou seja, em letras minúsculas, com um *underscore* entre as palávras. Dica: repare que se você não quiser criar um *dataframe* novo, você vai precisar usar a opção `inplace = True`."
   ]
  },
  {
   "cell_type": "code",
   "execution_count": 33,
   "metadata": {},
   "outputs": [
    {
     "name": "stdout",
     "output_type": "stream",
     "text": [
      "(27028, 69)\n",
      "Há linhas duplicadas? Não\n"
     ]
    }
   ],
   "source": [
    "import pandas as pd\n",
    "import requests\n",
    "\n",
    "# 1) seu código aqui\n",
    "sinasc = pd.read_csv('G:\\Downloads\\M5E1\\M5E1\\Tarefa1\\SINASC_RO_2019.csv')\n",
    "print(sinasc.shape)\n",
    "sinasc.drop_duplicates().shape\n",
    "# Não há duplicados\n",
    "\n",
    "print(f\"Há linhas duplicadas? {'Sim' if ha_duplicados else 'Não'}\")"
   ]
  },
  {
   "cell_type": "code",
   "execution_count": 41,
   "metadata": {},
   "outputs": [
    {
     "name": "stdout",
     "output_type": "stream",
     "text": [
      "ORIGEM          0\n",
      "CODESTAB      115\n",
      "CODMUNNASC      0\n",
      "LOCNASC         0\n",
      "IDADEMAE        0\n",
      "             ... \n",
      "munResUf        0\n",
      "munResLat       1\n",
      "munResLon       1\n",
      "munResAlt       1\n",
      "munResArea      1\n",
      "Length: 69, dtype: int64\n"
     ]
    }
   ],
   "source": [
    "# 2) seu código aqui\n",
    "#Conte o número de valores missing por variável.\n",
    "\n",
    "missing_por_variavel = sinasc.isnull().sum()\n",
    "print(missing_por_variavel)"
   ]
  },
  {
   "cell_type": "code",
   "execution_count": 21,
   "metadata": {},
   "outputs": [
    {
     "name": "stdout",
     "output_type": "stream",
     "text": [
      "LOCNASC          0\n",
      "IDADEMAE         0\n",
      "ESTCIVMAE      317\n",
      "ESCMAE         312\n",
      "QTDFILVIVO    1573\n",
      "GESTACAO      1232\n",
      "GRAVIDEZ        79\n",
      "CONSULTAS        0\n",
      "APGAR5         103\n",
      "dtype: int64\n"
     ]
    }
   ],
   "source": [
    "# 3) seu código aqui\n",
    "#Ok, no item anterior você deve ter achado pouco prático ler a informação de tantas variáveis, muitas delas nem devem ser interesantes. \n",
    "#Então crie uma seleção dessa base somente com as colunas que interessam. \n",
    "#São elas:  ['LOCNASC', 'IDADEMAE', 'ESTCIVMAE', 'ESCMAE', 'QTDFILVIVO',   'GESTACAO', 'GRAVIDEZ', 'CONSULTAS', 'APGAR5']\n",
    "#Refaça a contagem de valores missings.\n",
    "\n",
    "# Selecionar colunas de interesse\n",
    "colunas_interesse = ['LOCNASC', 'IDADEMAE', 'ESTCIVMAE', 'ESCMAE', 'QTDFILVIVO', 'GESTACAO', 'GRAVIDEZ', 'CONSULTAS', 'APGAR5']\n",
    "sinasc_selecao = sinasc[colunas_interesse]\n",
    "\n",
    "# Contar valores missing por variável\n",
    "missing_por_variavel_selecao = sinasc_selecao.isnull().sum()\n",
    "print(missing_por_variavel_selecao)"
   ]
  },
  {
   "cell_type": "code",
   "execution_count": 37,
   "metadata": {},
   "outputs": [
    {
     "name": "stdout",
     "output_type": "stream",
     "text": [
      "Número de registros após remoção de APGAR5 não preenchido: 26925\n",
      "LOCNASC          0\n",
      "IDADEMAE         0\n",
      "ESTCIVMAE      315\n",
      "ESCMAE         310\n",
      "QTDFILVIVO    1566\n",
      "GESTACAO      1216\n",
      "GRAVIDEZ        76\n",
      "CONSULTAS        0\n",
      "APGAR5           0\n",
      "dtype: int64\n"
     ]
    }
   ],
   "source": [
    "# 4) seu código aqui\n",
    "#Apgar é uma nota que o pediatra dá ao bebê quando nasce de acordo com algumas características associadas principalmente à respiração. \n",
    "#Apgar 1 e Apgar 5 são as notas 1 e 5 minutos do nascimento. Apgar5 será a nossa variável de interesse principal. \n",
    "#Então remova todos os registros com Apgar5 não preenchido. \n",
    "#Para esta seleção, conte novamente o número de linhas e o número de missings.\n",
    "\n",
    "# Remover registros com APGAR5 não preenchido\n",
    "sinasc_selecao = sinasc_selecao.dropna(subset=['APGAR5'])\n",
    "\n",
    "# Contar número de linhas e valores missing novamente\n",
    "num_registros_pos_remocao = sinasc_selecao.shape[0]\n",
    "missing_por_variavel_pos_remocao = sinasc_selecao.isnull().sum()\n",
    "\n",
    "print(f'Número de registros após remoção de APGAR5 não preenchido: {num_registros_pos_remocao}')\n",
    "print(missing_por_variavel_pos_remocao)"
   ]
  },
  {
   "cell_type": "code",
   "execution_count": 43,
   "metadata": {},
   "outputs": [],
   "source": [
    "# 5) seu código aqui\n",
    "#observe que as variáveis ['ESTCIVMAE', 'CONSULTAS'] possuem o código 9, que significa ignorado. \n",
    "#Vamos assumir que o não preenchido é o mesmo que o código 9.\n",
    "\n",
    "sinasc_selecao['ESTCIVMAE'].replace(9, pd.NA, inplace=True)\n",
    "sinasc_selecao['CONSULTAS'].replace(9, pd.NA, inplace=True)"
   ]
  },
  {
   "cell_type": "code",
   "execution_count": 45,
   "metadata": {},
   "outputs": [],
   "source": [
    "# 6) Seu código aqui\n",
    "#Substitua os valores faltantes da quantitativa (QTDFILVIVO) por zero.\n",
    "\n",
    "sinasc_selecao['QTDFILVIVO'].fillna(0, inplace=True)"
   ]
  },
  {
   "cell_type": "code",
   "execution_count": 47,
   "metadata": {},
   "outputs": [],
   "source": [
    "# 7) seu código aqui\n",
    "# Das restantes, decida que valore te parece mais adequado (um 'não preenchido' ou um valor 'mais provável' como no item anterior) e preencha. \n",
    "#Justifique.\n",
    "\n",
    "\n",
    "# Preencher valores faltantes com a moda\n",
    "sinasc_selecao['ESTCIVMAE'].fillna(sinasc_selecao['ESTCIVMAE'].mode()[0], inplace=True)\n",
    "sinasc_selecao['CONSULTAS'].fillna(sinasc_selecao['CONSULTAS'].mode()[0], inplace=True)\n",
    "sinasc_selecao['LOCNASC'].fillna(sinasc_selecao['LOCNASC'].mode()[0], inplace=True)\n",
    "sinasc_selecao['ESCMAE'].fillna(sinasc_selecao['ESCMAE'].mode()[0], inplace=True)\n",
    "sinasc_selecao['GESTACAO'].fillna(sinasc_selecao['GESTACAO'].mode()[0], inplace=True)\n",
    "sinasc_selecao['GRAVIDEZ'].fillna(sinasc_selecao['GRAVIDEZ'].mode()[0], inplace=True)\n"
   ]
  },
  {
   "cell_type": "markdown",
   "metadata": {},
   "source": [
    "Decidi usar a moda, para trazer o valor mais comum na base de dados para essas colunas, visto que estamos trabalhando com ums estimativa e acredito ser um valor mais 'real'. Poderia usar a média também, para ficar mais 'neutro', porém a moda, nesse caso, me atraiu mais."
   ]
  },
  {
   "cell_type": "code",
   "execution_count": 53,
   "metadata": {},
   "outputs": [
    {
     "name": "stdout",
     "output_type": "stream",
     "text": [
      "APGAR5_CATEGORIA\n",
      "normal              26463\n",
      "asfixia_leve          320\n",
      "asfixia_severa         74\n",
      "asfixia_moderada       68\n",
      "Name: count, dtype: int64\n"
     ]
    }
   ],
   "source": [
    "# 8) seu código aqui\n",
    "#O Apgar possui uma classificação indicando se o bebê passou por asfixia:\n",
    "\n",
    "#Entre 8 e 10 está em uma faixa 'normal'.\n",
    "#Entre 6 e 7, significa que o recém-nascido passou por 'asfixia leve'.\n",
    "#Entre 4 e 5 significa 'asfixia moderada'.\n",
    "#Entre 0 e 3 significa 'asfixia severa'.\n",
    "#Crie uma categorização dessa variável com essa codificação e calcule as frequências dessa categorização.\n",
    "\n",
    "# Categorizar a variável APGAR5 usando a função loc\n",
    "sinasc_selecao.loc[sinasc_selecao['APGAR5'] >= 8, 'APGAR5_CATEGORIA'] = 'normal'\n",
    "sinasc_selecao.loc[(sinasc_selecao['APGAR5'] >= 6) & (sinasc_selecao['APGAR5'] < 8), 'APGAR5_CATEGORIA'] = 'asfixia_leve'\n",
    "sinasc_selecao.loc[(sinasc_selecao['APGAR5'] >= 4) & (sinasc_selecao['APGAR5'] < 6), 'APGAR5_CATEGORIA'] = 'asfixia_moderada'\n",
    "sinasc_selecao.loc[sinasc_selecao['APGAR5'] < 4, 'APGAR5_CATEGORIA'] = 'asfixia_severa'\n",
    "\n",
    "# Calcular as frequências da categorização\n",
    "frequencias_apgar = sinasc_selecao['APGAR5_CATEGORIA'].value_counts()\n",
    "print(frequencias_apgar)"
   ]
  },
  {
   "cell_type": "code",
   "execution_count": 55,
   "metadata": {},
   "outputs": [
    {
     "name": "stdout",
     "output_type": "stream",
     "text": [
      "   loc_nasc  idade_mae  est_civ_mae          esc_mae  qtd_fil_vivo  \\\n",
      "0         1         19          5.0      8 a 11 anos           0.0   \n",
      "1         1         29          2.0      8 a 11 anos           1.0   \n",
      "2         1         37          2.0      8 a 11 anos           2.0   \n",
      "3         1         30          5.0  12 anos ou mais           0.0   \n",
      "4         1         30          2.0      8 a 11 anos           1.0   \n",
      "\n",
      "          gestacao gravidez  consultas  apgar5 APGAR5_CATEGORIA  \n",
      "0  37 a 41 semanas    Única          4    10.0           normal  \n",
      "1  37 a 41 semanas    Única          4     9.0           normal  \n",
      "2  37 a 41 semanas    Única          4    10.0           normal  \n",
      "3  37 a 41 semanas    Única          3    10.0           normal  \n",
      "4  37 a 41 semanas    Única          4    10.0           normal  \n"
     ]
    }
   ],
   "source": [
    "# 9) seu código aqui\n",
    "# Renomeie as variáveis para que fiquem no snake case, ou seja, em letras minúsculas, com um underscore entre as palávras. \n",
    "#Dica: repare que se você não quiser criar um dataframe novo, você vai precisar usar a opção inplace = True.\n",
    "\n",
    "# Renomear variáveis para snake_case\n",
    "sinasc_selecao.rename(columns={\n",
    "    'LOCNASC': 'loc_nasc', \n",
    "    'IDADEMAE': 'idade_mae', \n",
    "    'ESTCIVMAE': 'est_civ_mae', \n",
    "    'ESCMAE': 'esc_mae', \n",
    "    'QTDFILVIVO': 'qtd_fil_vivo', \n",
    "    'GESTACAO': 'gestacao', \n",
    "    'GRAVIDEZ': 'gravidez', \n",
    "    'CONSULTAS': 'consultas', \n",
    "    'APGAR5': 'apgar5'\n",
    "}, inplace=True)\n",
    "\n",
    "print(sinasc_selecao.head())\n"
   ]
  },
  {
   "cell_type": "code",
   "execution_count": 61,
   "metadata": {},
   "outputs": [
    {
     "name": "stdout",
     "output_type": "stream",
     "text": [
      "   loc_nasc  idade_mae  est_civ_mae          esc_mae  qtd_fil_vivo  \\\n",
      "0         1         19          5.0      8 a 11 anos           0.0   \n",
      "1         1         29          2.0      8 a 11 anos           1.0   \n",
      "2         1         37          2.0      8 a 11 anos           2.0   \n",
      "3         1         30          5.0  12 anos ou mais           0.0   \n",
      "4         1         30          2.0      8 a 11 anos           1.0   \n",
      "\n",
      "          gestacao gravidez  consultas  apgar5 APGAR5_CATEGORIA  \n",
      "0  37 a 41 semanas    Única          4    10.0           normal  \n",
      "1  37 a 41 semanas    Única          4     9.0           normal  \n",
      "2  37 a 41 semanas    Única          4    10.0           normal  \n",
      "3  37 a 41 semanas    Única          3    10.0           normal  \n",
      "4  37 a 41 semanas    Única          4    10.0           normal  \n"
     ]
    }
   ],
   "source": [
    "# 9) Resolução 2. \n",
    "#Renomear variáveis para snake_case criando um novo dataframe. \n",
    "sinasc_renomeado = sinasc_selecao.rename(columns={\n",
    "    'LOCNASC': 'loc_nasc', \n",
    "    'IDADEMAE': 'idade_mae', \n",
    "    'ESTCIVMAE': 'est_civ_mae', \n",
    "    'ESCMAE': 'esc_mae', \n",
    "    'QTDFILVIVO': 'qtd_fil_vivo', \n",
    "    'GESTACAO': 'gestacao', \n",
    "    'GRAVIDEZ': 'gravidez', \n",
    "    'CONSULTAS': 'consultas', \n",
    "    'APGAR5': 'apgar5'\n",
    "})\n",
    "\n",
    "print(sinasc_renomeado.head())"
   ]
  },
  {
   "cell_type": "code",
   "execution_count": null,
   "metadata": {},
   "outputs": [],
   "source": []
  }
 ],
 "metadata": {
  "kernelspec": {
   "display_name": "Python 3 (ipykernel)",
   "language": "python",
   "name": "python3"
  },
  "language_info": {
   "codemirror_mode": {
    "name": "ipython",
    "version": 3
   },
   "file_extension": ".py",
   "mimetype": "text/x-python",
   "name": "python",
   "nbconvert_exporter": "python",
   "pygments_lexer": "ipython3",
   "version": "3.11.7"
  }
 },
 "nbformat": 4,
 "nbformat_minor": 4
}
